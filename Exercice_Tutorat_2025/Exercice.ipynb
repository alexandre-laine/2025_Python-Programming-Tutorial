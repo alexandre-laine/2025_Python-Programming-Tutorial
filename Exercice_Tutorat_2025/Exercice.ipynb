{
 "cells": [
  {
   "cell_type": "markdown",
   "metadata": {
    "vscode": {
     "languageId": "plaintext"
    }
   },
   "source": [
    "# Exercice plot Neurons"
   ]
  },
  {
   "cell_type": "code",
   "execution_count": 30,
   "metadata": {},
   "outputs": [
    {
     "name": "stdout",
     "output_type": "stream",
     "text": [
      "[[-69.360017   -68.53849248 -69.26188399 ... -70.22766823 -69.76659948\n",
      "  -69.96518957]\n",
      " [-69.360017   -68.75901186 -69.4489198  ... -70.13466779 -69.32374791\n",
      "  -69.65988803]\n",
      " [-64.360017   -64.25144908 -65.05100768 ... -69.56184523 -68.86590152\n",
      "  -68.92157959]\n",
      " ...\n",
      " [-69.360017   -69.00079969 -69.60639239 ... -70.22515174 -69.66974478\n",
      "  -70.05760463]\n",
      " [-69.360017   -69.21240844 -70.08484937 ... -71.03849018 -70.52333652\n",
      "  -70.98017784]\n",
      " [-64.360017   -64.12916549 -64.98852613 ... -70.60748809 -70.10025313\n",
      "  -70.1328252 ]]\n"
     ]
    }
   ],
   "source": [
    "# -----------------------\n",
    "# Libraries importation \n",
    "# -----------------------\n",
    "\n",
    "import os \n",
    "import numpy as np\n",
    "import matplotlib.pyplot as plt\n",
    "\n",
    "# Current working directory\n",
    "cwd = os.getcwd()\n",
    "\n",
    "# -----------------------\n",
    "# Data importation\n",
    "# -----------------------\n",
    "\n",
    "Memb_Potential_neurons = np.load(os.path.join(cwd, \"Izhi_neurons.npz\"), allow_pickle=True)[\"arr_0\"]\n",
    "print(Memb_Potential_neurons)\n",
    "\n",
    "# DO NOT USE TRUE CONN_MATRIX NOW !!!!!\n",
    "# True_conn_matrix = np.load(os.path.join(cwd, \"True_conn_matrix.npz\"), allow_pickle=True)[\"arr_0\"]"
   ]
  },
  {
   "cell_type": "code",
   "execution_count": null,
   "metadata": {},
   "outputs": [],
   "source": []
  }
 ],
 "metadata": {
  "kernelspec": {
   "display_name": "base",
   "language": "python",
   "name": "python3"
  },
  "language_info": {
   "codemirror_mode": {
    "name": "ipython",
    "version": 3
   },
   "file_extension": ".py",
   "mimetype": "text/x-python",
   "name": "python",
   "nbconvert_exporter": "python",
   "pygments_lexer": "ipython3",
   "version": "3.12.4"
  }
 },
 "nbformat": 4,
 "nbformat_minor": 2
}
